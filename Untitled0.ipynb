{
  "nbformat": 4,
  "nbformat_minor": 0,
  "metadata": {
    "colab": {
      "provenance": [],
      "authorship_tag": "ABX9TyOsmXZUxNx0DOfHdRmDKO/v",
      "include_colab_link": true
    },
    "kernelspec": {
      "name": "python3",
      "display_name": "Python 3"
    },
    "language_info": {
      "name": "python"
    }
  },
  "cells": [
    {
      "cell_type": "markdown",
      "metadata": {
        "id": "view-in-github",
        "colab_type": "text"
      },
      "source": [
        "<a href=\"https://colab.research.google.com/github/SoledadFerrer/ProyectoCoder/blob/main/Untitled0.ipynb\" target=\"_parent\"><img src=\"https://colab.research.google.com/assets/colab-badge.svg\" alt=\"Open In Colab\"/></a>"
      ]
    },
    {
      "cell_type": "markdown",
      "source": [
        "Creación de estrategia de comunicación del Manual de Tono y Voz - texto a texto"
      ],
      "metadata": {
        "id": "b8ytEv_e9rEy"
      }
    },
    {
      "cell_type": "code",
      "execution_count": 12,
      "metadata": {
        "colab": {
          "base_uri": "https://localhost:8080/"
        },
        "id": "0ph_aaZC9ovE",
        "outputId": "76849975-17bf-483a-ccce-b4568427c0ff"
      },
      "outputs": [
        {
          "output_type": "stream",
          "name": "stdout",
          "text": [
            "Requirement already satisfied: openai==0.28 in /usr/local/lib/python3.10/dist-packages (0.28.0)\n",
            "Requirement already satisfied: requests>=2.20 in /usr/local/lib/python3.10/dist-packages (from openai==0.28) (2.31.0)\n",
            "Requirement already satisfied: tqdm in /usr/local/lib/python3.10/dist-packages (from openai==0.28) (4.66.2)\n",
            "Requirement already satisfied: aiohttp in /usr/local/lib/python3.10/dist-packages (from openai==0.28) (3.9.5)\n",
            "Requirement already satisfied: charset-normalizer<4,>=2 in /usr/local/lib/python3.10/dist-packages (from requests>=2.20->openai==0.28) (3.3.2)\n",
            "Requirement already satisfied: idna<4,>=2.5 in /usr/local/lib/python3.10/dist-packages (from requests>=2.20->openai==0.28) (3.7)\n",
            "Requirement already satisfied: urllib3<3,>=1.21.1 in /usr/local/lib/python3.10/dist-packages (from requests>=2.20->openai==0.28) (2.0.7)\n",
            "Requirement already satisfied: certifi>=2017.4.17 in /usr/local/lib/python3.10/dist-packages (from requests>=2.20->openai==0.28) (2024.2.2)\n",
            "Requirement already satisfied: aiosignal>=1.1.2 in /usr/local/lib/python3.10/dist-packages (from aiohttp->openai==0.28) (1.3.1)\n",
            "Requirement already satisfied: attrs>=17.3.0 in /usr/local/lib/python3.10/dist-packages (from aiohttp->openai==0.28) (23.2.0)\n",
            "Requirement already satisfied: frozenlist>=1.1.1 in /usr/local/lib/python3.10/dist-packages (from aiohttp->openai==0.28) (1.4.1)\n",
            "Requirement already satisfied: multidict<7.0,>=4.5 in /usr/local/lib/python3.10/dist-packages (from aiohttp->openai==0.28) (6.0.5)\n",
            "Requirement already satisfied: yarl<2.0,>=1.0 in /usr/local/lib/python3.10/dist-packages (from aiohttp->openai==0.28) (1.9.4)\n",
            "Requirement already satisfied: async-timeout<5.0,>=4.0 in /usr/local/lib/python3.10/dist-packages (from aiohttp->openai==0.28) (4.0.3)\n"
          ]
        }
      ],
      "source": [
        "!pip install openai==0.28"
      ]
    },
    {
      "cell_type": "markdown",
      "source": [
        "Api Key"
      ],
      "metadata": {
        "id": "fueitSMB97u8"
      }
    },
    {
      "cell_type": "code",
      "source": [
        "!pip install openai==0.28\n",
        "import openai\n",
        "\n",
        "openai.api_key = \"sk-proj-3H8eXVDPRfAkVdvicRiGT3BlbkFJvn2XD6KemTYi1GtGWJSs\""
      ],
      "metadata": {
        "colab": {
          "base_uri": "https://localhost:8080/"
        },
        "id": "8XdkjJrS96CG",
        "outputId": "624d066c-73ce-49e3-d9d7-3184b67d0b0a"
      },
      "execution_count": 16,
      "outputs": [
        {
          "output_type": "stream",
          "name": "stdout",
          "text": [
            "Requirement already satisfied: openai==0.28 in /usr/local/lib/python3.10/dist-packages (0.28.0)\n",
            "Requirement already satisfied: requests>=2.20 in /usr/local/lib/python3.10/dist-packages (from openai==0.28) (2.31.0)\n",
            "Requirement already satisfied: tqdm in /usr/local/lib/python3.10/dist-packages (from openai==0.28) (4.66.2)\n",
            "Requirement already satisfied: aiohttp in /usr/local/lib/python3.10/dist-packages (from openai==0.28) (3.9.5)\n",
            "Requirement already satisfied: charset-normalizer<4,>=2 in /usr/local/lib/python3.10/dist-packages (from requests>=2.20->openai==0.28) (3.3.2)\n",
            "Requirement already satisfied: idna<4,>=2.5 in /usr/local/lib/python3.10/dist-packages (from requests>=2.20->openai==0.28) (3.7)\n",
            "Requirement already satisfied: urllib3<3,>=1.21.1 in /usr/local/lib/python3.10/dist-packages (from requests>=2.20->openai==0.28) (2.0.7)\n",
            "Requirement already satisfied: certifi>=2017.4.17 in /usr/local/lib/python3.10/dist-packages (from requests>=2.20->openai==0.28) (2024.2.2)\n",
            "Requirement already satisfied: aiosignal>=1.1.2 in /usr/local/lib/python3.10/dist-packages (from aiohttp->openai==0.28) (1.3.1)\n",
            "Requirement already satisfied: attrs>=17.3.0 in /usr/local/lib/python3.10/dist-packages (from aiohttp->openai==0.28) (23.2.0)\n",
            "Requirement already satisfied: frozenlist>=1.1.1 in /usr/local/lib/python3.10/dist-packages (from aiohttp->openai==0.28) (1.4.1)\n",
            "Requirement already satisfied: multidict<7.0,>=4.5 in /usr/local/lib/python3.10/dist-packages (from aiohttp->openai==0.28) (6.0.5)\n",
            "Requirement already satisfied: yarl<2.0,>=1.0 in /usr/local/lib/python3.10/dist-packages (from aiohttp->openai==0.28) (1.9.4)\n",
            "Requirement already satisfied: async-timeout<5.0,>=4.0 in /usr/local/lib/python3.10/dist-packages (from aiohttp->openai==0.28) (4.0.3)\n"
          ]
        }
      ]
    },
    {
      "cell_type": "markdown",
      "source": [
        "Le asigno rol y tarea general - 1ª tarea estrategia general de Comunicación para Manual de Tono y Voz para experiencias digitales"
      ],
      "metadata": {
        "id": "xlAfsJKK-S8E"
      }
    },
    {
      "cell_type": "code",
      "source": [
        "#Make the context of our prompt envoirement\n",
        "context = 'Eres un asistente especialista es comunicación del sector financiero, el cual se encarga de diseñar campañas y estrategias para dar a conocer o posicionar una marca o un tema específico.'\n",
        "\n",
        "#prompt (text/user's question)\n",
        "prompt = \"Tenés que diseñar una estrategia de comunicación interna del manual de tono y voz para diseñar experiencias digitales de una empresa del sector financiero, en este manual vas a encontrar diferentes secciones como personalidad,linemientos de voz y tonos diferenciados por públicos, lineamientos de escritura para generar FAQs, escribir mails, diseñar wordings para diferentes componenetes lineamientos de ortografía, formato de textos, definiciones para armar mensajes de error o éxito. Además vas a poder encontrar consejos de accesibilidad y sesgo de género para que los diseños contemplen a todas las personas usuarias\""
      ],
      "metadata": {
        "id": "RVzryvMM-bQV"
      },
      "execution_count": 17,
      "outputs": []
    },
    {
      "cell_type": "markdown",
      "source": [
        "Configurar el prompt con ChatGPT"
      ],
      "metadata": {
        "id": "BgSfbVk0-6NA"
      }
    },
    {
      "cell_type": "code",
      "source": [
        "# Make the request\n",
        "conversation = [\n",
        "    {\"role\": \"system\", \"content\": context},\n",
        "    {\"role\": \"user\", \"content\": prompt}\n",
        "]\n",
        "\n",
        "response = openai.ChatCompletion.create(\n",
        "    model='gpt-3.5-turbo',\n",
        "    messages=conversation,\n",
        "    max_tokens=500\n",
        ")\n",
        "\n",
        "message = response.choices[0]['message']\n",
        "print(\"{}: {}\".format(message['role'], message['content']))"
      ],
      "metadata": {
        "colab": {
          "base_uri": "https://localhost:8080/"
        },
        "id": "AHxYtqWp-7FS",
        "outputId": "ea4264ec-705e-47e7-c60b-43d8b9b318ad"
      },
      "execution_count": 18,
      "outputs": [
        {
          "output_type": "stream",
          "name": "stdout",
          "text": [
            "assistant: ¡Qué interesante reto! Aquí te detallo una estrategia de comunicación interna para implementar el manual de tono y voz en el diseño de experiencias digitales de la empresa financiera:\n",
            "\n",
            "1. **Sesión de capacitación:** Organizar sesiones de capacitación para todo el equipo involucrado en la creación de contenidos digitales. Durante estas sesiones se explicará detalladamente el contenido del manual, resaltando la importancia de mantener la coherencia en el tono y la voz de la empresa.\n",
            "\n",
            "2. **Creación de material de apoyo:** Elaborar guías resumidas con los puntos clave del manual de tono y voz para que el personal tenga fácil acceso a la información relevante en su día a día.\n",
            "\n",
            "3. **Implementación progresiva:** Introducir gradualmente los lineamientos de voz y tono en los diferentes procesos de diseño de experiencias digitales. Esto permitirá a los equipos adaptarse de forma más efectiva a los nuevos lineamientos.\n",
            "\n",
            "4. **Sesiones de retroalimentación:** Realizar reuniones periódicas para analizar cómo se están aplicando los lineamientos del manual en los proyectos digitales. Esto ayudará a identificar áreas de mejora y hacer ajustes en la estrategia de comunicación si es necesario.\n",
            "\n",
            "5. **Reconocimiento:** Reconocer públicamente a aquellos equipos o miembros del personal que destaquen en la implementación exitosa de los lineamientos del manual de tono y voz en sus proyectos.\n",
            "\n",
            "6. **Revisión continua:** Establecer un proceso de revisión continua del manual, de manera que se puedan hacer ajustes según las necesidades y cambios en el mercado o en la empresa.\n",
            "\n",
            "7. **Canal de consultas:** Designar a un responsable o grupo de expertos en comunicación interna que estén disponibles para responder consultas y brindar orientación a los empleados que tengan dudas sobre la aplicación de los lineamientos del manual.\n",
            "\n",
            "8. **Encuesta de satisfacción:** Realizar encuestas periódicas para medir la satisfacción y percepción del personal con respecto a la implementación del manual de tono y voz en el diseño de experiencias digitales. Esto permitirá identificar áreas de mejora y continuar refinando la estrategia de comunic\n"
          ]
        }
      ]
    },
    {
      "cell_type": "markdown",
      "source": [
        "Itero para una descripción más profunda y detalalada sobre las tareas en Análisis de manual de tono y voz"
      ],
      "metadata": {
        "id": "G6vpXBOsOzia"
      }
    },
    {
      "cell_type": "code",
      "source": [
        "# Make the request\n",
        "prompt_iterative1 = \"Detallame las tareas que se deben hacer en el Análisis del manual de tono y voz\"\n",
        "conversation = [\n",
        "    {\"role\": \"system\", \"content\": context},\n",
        "    {\"role\": \"system\", \"content\": \"{}: {}\".format(message[\"role\"], message[\"content\"])},\n",
        "    {\"role\": \"user\", \"content\": prompt}\n",
        "]\n",
        "\n",
        "response = openai.ChatCompletion.create(\n",
        "    model='gpt-3.5-turbo',\n",
        "    messages=conversation,\n",
        "    max_tokens=700\n",
        ")\n",
        "\n",
        "message = response.choices[0]['message']\n",
        "print(\"{}: {}\".format(message['role'], message['content']))"
      ],
      "metadata": {
        "id": "LEv3Jf4sJm2f",
        "colab": {
          "base_uri": "https://localhost:8080/"
        },
        "outputId": "e1c6e085-26a8-41c3-8437-0d27eac55245"
      },
      "execution_count": 21,
      "outputs": [
        {
          "output_type": "stream",
          "name": "stdout",
          "text": [
            "assistant: ¡Entendido! Basándome en los elementos del manual de tono y voz que mencionaste, aquí te presento una propuesta de estrategia de comunicación interna para implementar con éxito el manual y asegurar una comunicación coherente y accesible en la empresa del sector financiero:\n",
            "\n",
            "**Estrategia de Comunicación Interna del Manual de Tono y Voz para Diseñar Experiencias Digitales en una Empresa del Sector Financiero:**\n",
            "\n",
            "**Objetivo:** Implementar de manera efectiva el manual de tono y voz para diseñar experiencias digitales coherentes, inclusivas y de calidad en la empresa del sector financiero.\n",
            "\n",
            "**Pasos a seguir:**\n",
            "\n",
            "1. **Lanzamiento y Sensibilización:**\n",
            "   - Organizar un evento de lanzamiento interno para presentar el manual de tono y voz a todos los colaboradores.\n",
            "   - Destacar la importancia de la coherencia, accesibilidad y personalidad en la comunicación digital de la empresa.\n",
            "   - Explicar cómo el manual puede mejorar la experiencia del usuario y fortalecer la imagen de la marca en línea con los valores institucionales.\n",
            "\n",
            "2. **Formación y Capacitación:**\n",
            "   - Impartir sesiones de formación y talleres prácticos sobre los lineamientos de voz, tono diferenciado, formatos de textos y lineamientos ortográficos del manual.\n",
            "   - Incluir ejemplos y casos prácticos que ilustren la aplicación efectiva de los lineamientos en la comunicación, con un enfoque especial en la inclusión y diversidad.\n",
            "\n",
            "3. **Integración en los Procesos Cotidianos:**\n",
            "   - Incorporar el manual de tono y voz en los procesos de creación de contenidos digitales, como la redacción de correos, FAQs, mensajes de error y éxito, y publicaciones en redes sociales.\n",
            "   - Facilitar el acceso al manual a través de plataformas internas y herramientas colaborativas para asegurar su uso constante y correcto en todas las comunicaciones.\n",
            "\n",
            "4. **Evaluación y Retroalimentación:**\n",
            "   - Establecer mecanismos de evaluación periódica para medir la implementación de los lineamientos del manual en las comunicaciones digitales.\n",
            "   - Recopilar la retroalimentación de los colaboradores para identificar áreas de mejora, necesidades de actualización o dificultades en la aplicación de los lineamientos.\n",
            "\n",
            "5. **Reconocimiento y Reconocimientos:**\n",
            "   - Reconocer y premiar a los equipos y colaboradores que demuestren excelencia en la aplicación del manual de tono y voz en sus comunicaciones digitales.\n",
            "   - Destacar los casos de éxito en la implementación del manual a través de boletines internos, reuniones de equipo o premiaciones especiales.\n",
            "\n",
            "**Métricas de Éxito:**\n",
            "- Incremento en la coherencia y calidad de la comunicación digital.\n",
            "- Mejora en la accesibilidad y adecuación a los diferentes públicos.\n",
            "- Aumento en la percepción positiva de la marca y la fidelización de los usuarios.\n",
            "\n",
            "Esta estrategia busca garantizar una implementación efectiva del manual\n"
          ]
        }
      ]
    },
    {
      "cell_type": "markdown",
      "source": [
        "Itero para que nos indique buenas prácticas para la integración de procesos cotidianos"
      ],
      "metadata": {
        "id": "NkUl_X_RO6nR"
      }
    },
    {
      "cell_type": "code",
      "source": [
        "# Make the request\n",
        "prompt_iterative2 = \"Diseña una etrategia para la etapa de Ingtegración en los procesos cotidianos del Análisis del manual de tono y voz\"\n",
        "conversation = [\n",
        "    {\"role\": \"system\", \"content\": context},\n",
        "    {\"role\": \"user\", \"content\": \"{}: {}\".format(message[\"role\"], message[\"content\"])},\n",
        "    {\"role\": \"user\", \"content\": prompt_iterative2}\n",
        "]\n",
        "\n",
        "response = openai.ChatCompletion.create(\n",
        "    model='gpt-3.5-turbo',\n",
        "    messages=conversation,\n",
        "    max_tokens=700\n",
        ")\n",
        "\n",
        "message = response.choices[0]['message']\n",
        "print(\"{}: {}\".format(message['role'], message['content']))"
      ],
      "metadata": {
        "colab": {
          "base_uri": "https://localhost:8080/"
        },
        "id": "XyDSZSyuO9OW",
        "outputId": "bddbd3d2-9b49-4f10-959e-6d3909e84771"
      },
      "execution_count": 22,
      "outputs": [
        {
          "output_type": "stream",
          "name": "stdout",
          "text": [
            "assistant: ¡Claro! Aquí te dejo un plan detallado para la etapa de Integración en los procesos cotidianos del análisis del manual de tono y voz en una empresa del sector financiero:\n",
            "\n",
            "## Estrategia para Integrar el Manual de Tono y Voz en los Procesos Cotidianos:\n",
            "\n",
            "### Objetivo:\n",
            "- Integrar de manera efectiva los lineamientos del manual de tono y voz en los procesos de comunicación diaria de la empresa para garantizar coherencia y consistencia en los mensajes.\n",
            "\n",
            "### Pasos a Seguir:\n",
            "\n",
            "1. **Personalización de Contenidos:**\n",
            "   - Adaptar los lineamientos del manual a los diferentes equipos y áreas funcionales para que reflejen la identidad y valores específicos de cada sector.\n",
            "   - Proporcionar ejemplos y plantillas que sirvan de guía para la redacción de contenidos personalizados.\n",
            "\n",
            "2. **Integración en Plataformas Internas:**\n",
            "   - Incluir el manual de tono y voz en las plataformas de comunicación interna de la empresa para que esté accesible en todo momento.\n",
            "   - Promover su uso a través de recordatorios regulares y enlaces directos en herramientas de trabajo cotidianas.\n",
            "\n",
            "3. **Creación de Editoriales Específicos:**\n",
            "   - Establecer editoriales periódicos o internos que destaquen buenas prácticas en la aplicación del manual y casos de éxito.\n",
            "   - Invitar a colaboradores a compartir sus experiencias y aprendizajes sobre la implementación de los lineamientos.\n",
            "\n",
            "4. **Revisiones y Feedback Constante:**\n",
            "   - Programar revisiones regulares de contenidos digitalmente creados para verificar el cumplimiento de los lineamientos del manual.\n",
            "   - Solicitar feedback a los equipos sobre la aplicación práctica de las directrices y documentar las lecciones aprendidas para futuras mejoras.\n",
            "\n",
            "5. **Capacitación Continua:**\n",
            "   - Mantener sesiones de actualización y formación sobre el manual de tono y voz de forma regular para garantizar su correcta aplicación.\n",
            "   - Incluir ejercicios prácticos y retroalimentación para reforzar el aprendizaje y resolver dudas en tiempo real.\n",
            "\n",
            "6. **Monitorización y Análisis de Resultados:**\n",
            "   - Implementar herramientas de monitorización de la comunicación digital para medir el impacto de la aplicación de los lineamientos del manual.\n",
            "   - Analizar métricas de calidad, coherencia y recepción de los mensajes para identificar áreas de mejora y oportunidades de optimización.\n",
            "\n",
            "### Métricas de Éxito:\n",
            "- Aumento en la coherencia y consistencia de la comunicación interna y externa.\n",
            "- Reducción de errores y discrepancias en los mensajes transmitidos.\n",
            "- Mejora en la percepción de la marca y la fidelización de los usuarios internos y externos.\n",
            "\n",
            "Esta estrategia busca garantizar que los lineamientos del manual de tono y voz se integren de manera efectiva en la comunicación diaria de la empresa del sector financiero, contribuyendo a una experiencia de usuario coherente y de calidad.\n"
          ]
        }
      ]
    },
    {
      "cell_type": "markdown",
      "source": [
        "Itero para que me diga cómo llevar adelante las sesiones de retroalimentación"
      ],
      "metadata": {
        "id": "7k5BPLfLRKek"
      }
    },
    {
      "cell_type": "code",
      "source": [
        "# Make the request\n",
        "prompt_iterative2 = \"Diseña una etrategia resumida para la etapa de sesiones de retroalimentación del Análisis del manual de tono y voz\"\n",
        "conversation = [\n",
        "    {\"role\": \"system\", \"content\": context},\n",
        "    {\"role\": \"user\", \"content\": \"{}: {}\".format(message[\"role\"], message[\"content\"])},\n",
        "    {\"role\": \"user\", \"content\": prompt_iterative2}\n",
        "]\n",
        "\n",
        "response = openai.ChatCompletion.create(\n",
        "    model='gpt-3.5-turbo',\n",
        "    messages=conversation,\n",
        "    max_tokens=650\n",
        ")\n",
        "\n",
        "message = response.choices[0]['message']\n",
        "print(\"{}: {}\".format(message['role'], message['content']))"
      ],
      "metadata": {
        "colab": {
          "base_uri": "https://localhost:8080/"
        },
        "id": "ZNBrfrr9RO9U",
        "outputId": "8078a786-6688-46bc-eea5-ba14232e086e"
      },
      "execution_count": 25,
      "outputs": [
        {
          "output_type": "stream",
          "name": "stdout",
          "text": [
            "assistant: ### Estrategia Resumida para Sesiones de Retroalimentación del Análisis del Manual de Tono y Voz\n",
            "\n",
            "#### Objetivo:\n",
            "- Mejorar la implementación del manual de tono y voz en la comunicación empresarial a través de sesiones de retroalimentación efectivas.\n",
            "\n",
            "#### Paso a Paso:\n",
            "\n",
            "1. **Planificación y Convocatoria:**\n",
            "   - Establecer fechas y horarios para las sesiones.\n",
            "   - Designar un moderador experto en comunicación.\n",
            "\n",
            "2. **Participantes:**\n",
            "   - Invitar a colaboradores de distintos departamentos.\n",
            "   - Incluir a quienes aplican el manual en su día a día.\n",
            "\n",
            "3. **Presentación y Ejemplos:**\n",
            "   - Compartir conclusiones y áreas de mejora.\n",
            "   - Utilizar ejemplos para ilustrar la correcta aplicación del tono y voz.\n",
            "\n",
            "4. **Ejercicios Prácticos:**\n",
            "   - Realizar actividades interactivas.\n",
            "   - Dar retroalimentación inmediata.\n",
            "\n",
            "5. **Recopilación de Feedback:**\n",
            "   - Facilitar un espacio abierto y seguro.\n",
            "   - Usar encuestas anónimas para obtener opiniones.\n",
            "\n",
            "6. **Análisis y Plan de Acción:**\n",
            "   - Identificar áreas de mejora prioritarias.\n",
            "   - Definir un plan con medidas concretas.\n",
            "\n",
            "7. **Seguimiento y Evaluación:**\n",
            "   - Verificar la implementación de mejoras.\n",
            "   - Evaluar periódicamente los resultados.\n",
            "\n",
            "#### Resultados Esperados:\n",
            "- Coherencia y consistencia en la comunicación empresarial.\n",
            "- Mayor efectividad en la aplicación del tono y voz.\n"
          ]
        }
      ]
    },
    {
      "cell_type": "markdown",
      "source": [
        "Presentar los resultados finales de esta estrategia y comunicarlos"
      ],
      "metadata": {
        "id": "BIorxeisS96p"
      }
    },
    {
      "cell_type": "code",
      "source": [
        "# Make the request\n",
        "prompt_iterative3 = \"Diseña una etrategia resumida para presentar los resultados finales de la estrategia completa y cómo lo comunicarías\"\n",
        "conversation = [\n",
        "    {\"role\": \"system\", \"content\": context},\n",
        "    {\"role\": \"user\", \"content\": \"{}: {}\".format(message[\"role\"], message[\"content\"])},\n",
        "    {\"role\": \"user\", \"content\": prompt_iterative3}\n",
        "]\n",
        "\n",
        "response = openai.ChatCompletion.create(\n",
        "    model='gpt-3.5-turbo',\n",
        "    messages=conversation,\n",
        "    max_tokens=700\n",
        ")\n",
        "\n",
        "message = response.choices[0]['message']\n",
        "print(\"{}: {}\".format(message['role'], message['content']))"
      ],
      "metadata": {
        "colab": {
          "base_uri": "https://localhost:8080/"
        },
        "id": "vnr77e5GTCId",
        "outputId": "524731c5-2c19-48d6-d3ab-cb35561b3dee"
      },
      "execution_count": 26,
      "outputs": [
        {
          "output_type": "stream",
          "name": "stdout",
          "text": [
            "assistant: ### Estrategia Resumida para Presentación de Resultados Finales\n",
            "\n",
            "#### Objetivo:\n",
            "- Comunicar de manera efectiva los resultados finales de la estrategia implementada y destacar los logros alcanzados.\n",
            "\n",
            "#### Paso a Paso:\n",
            "\n",
            "1. **Preparación de la Presentación:**\n",
            "   - Elaborar una presentación visual y atractiva.\n",
            "   - Incluir datos clave, gráficos y ejemplos destacados.\n",
            "\n",
            "2. **Narrativa Coherente:**\n",
            "   - Relatar la historia de la estrategia desde el inicio hasta el resultado final.\n",
            "   - Destacar los desafíos superados y los hitos importantes.\n",
            "\n",
            "3. **Enfatizar Logros y Mejoras:**\n",
            "   - Resaltar los logros alcanzados gracias a la estrategia implementada.\n",
            "   - Mostrar ejemplos concretos de mejora y crecimiento.\n",
            "\n",
            "4. **Involucrar al Equipo:**\n",
            "   - Reconocer el esfuerzo y dedicación del equipo involucrado.\n",
            "   - Permitir que miembros clave compartan sus experiencias y perspectivas.\n",
            "\n",
            "5. **Interacción y Preguntas:**\n",
            "   - Abrir un espacio para preguntas y comentarios al final de la presentación.\n",
            "   - Estar preparado para discutir en detalle cualquier aspecto de la estrategia.\n",
            "\n",
            "6. **Comunicación Multicanal:**\n",
            "   - Utilizar diferentes canales de comunicación dentro de la empresa (correo electrónico, reuniones virtuales, intranet, etc.).\n",
            "   - Asegurarse de que la información llegue a todos los involucrados.\n",
            "\n",
            "#### Formas de Comunicación:\n",
            "\n",
            "1. **Reunión de Equipo Virtual:**\n",
            "   - Organizar una reunión virtual donde se presenten los resultados finales.\n",
            "   - Permitir la participación activa y preguntas del equipo.\n",
            "\n",
            "2. **Informe Escrito:**\n",
            "   - Elaborar un informe detallado con los resultados, conclusiones y próximos pasos.\n",
            "   - Distribuirlo entre los miembros relevantes de la empresa.\n",
            "\n",
            "3. **Publicación en Intranet:**\n",
            "   - Subir un resumen ejecutivo de los resultados en la intranet de la empresa.\n",
            "   - Incluir enlaces a la presentación completa y al informe detallado.\n",
            "\n",
            "#### Resultados Esperados:\n",
            "- Reconocimiento y celebración de los logros alcanzados.\n",
            "- Mayor comprensión y aprecio por el trabajo realizado.\n",
            "- Impulso para futuras estrategias y proyectos de comunicación.\n",
            "\n",
            "Al comunicar los resultados finales, es fundamental mantener un tono positivo y motivador, enfocándote en los aspectos exitosos de la estrategia implementada y destacando el valor agregado para la empresa.¡Recuerda celebrar los logros y agradecer el esfuerzo de todo el equipo!\n"
          ]
        }
      ]
    },
    {
      "cell_type": "markdown",
      "source": [
        "Métricas de evaluación generales"
      ],
      "metadata": {
        "id": "6wTjRw9xTx3-"
      }
    },
    {
      "cell_type": "code",
      "source": [
        "# Make the request\n",
        "prompt_iterative4 = \"Haceme un listados con las métricas qu utilizarías para evaluar el exito de la estrategia en general junto con una breve descripción\"\n",
        "conversation = [\n",
        "    {\"role\": \"system\", \"content\": context},\n",
        "    {\"role\": \"user\", \"content\": \"{}: {}\".format(message[\"role\"], message[\"content\"])},\n",
        "    {\"role\": \"user\", \"content\": prompt_iterative4}\n",
        "]\n",
        "\n",
        "response = openai.ChatCompletion.create(\n",
        "    model='gpt-3.5-turbo',\n",
        "    messages=conversation,\n",
        "    max_tokens=500\n",
        ")\n",
        "\n",
        "message = response.choices[0]['message']\n",
        "print(\"{}: {}\".format(message['role'], message['content']))"
      ],
      "metadata": {
        "colab": {
          "base_uri": "https://localhost:8080/"
        },
        "id": "KADIaZ2AT0D1",
        "outputId": "4c4c6c6d-17c0-4214-e46e-6e3acc76dc39"
      },
      "execution_count": 27,
      "outputs": [
        {
          "output_type": "stream",
          "name": "stdout",
          "text": [
            "assistant: Aquí te dejo un listado con algunas métricas clave que puedes utilizar para evaluar el éxito de la estrategia en general, junto con una breve descripción de cada una:\n",
            "\n",
            "1. **Retorno de la Inversión (ROI):**\n",
            "   - Mide la rentabilidad de la estrategia en términos de beneficios obtenidos respecto a los costos incurridos.\n",
            "\n",
            "2. **Tasa de Conversión:**\n",
            "   - Rastrea el porcentaje de visitantes que realizan una acción deseada, como una compra o suscripción.\n",
            "\n",
            "3. **Índice de Satisfacción del Cliente:**\n",
            "   - Evalúa la satisfacción de los clientes con la estrategia y los servicios/productos relacionados.\n",
            "\n",
            "4. **Aumento del Tráfico Web:**\n",
            "   - Mide el incremento en el número de visitantes al sitio web como resultado de la estrategia implementada.\n",
            "\n",
            "5. **Engagement en Redes Sociales:**\n",
            "   - Analiza la interacción y participación de los usuarios en las redes sociales de la empresa.\n",
            "\n",
            "6. **Nivel de Reconocimiento de Marca:**\n",
            "   - Evalúa la notoriedad y reconocimiento de la marca entre el público objetivo.\n",
            "\n",
            "7. **Porcentaje de Retención de Clientes:**\n",
            "   - Mide la cantidad de clientes que regresan y siguen siendo fieles a la marca.\n",
            "\n",
            "8. **Costo por Adquisición de Cliente (CAC):**\n",
            "   - Determina cuánto cuesta adquirir un nuevo cliente como resultado de la estrategia.\n",
            "\n",
            "9. **Tasa de Abandono:**\n",
            "   - Rastrea la cantidad de clientes que abandonan el proceso de compra o la interacción con la marca.\n",
            "\n",
            "10. **Calidad de Leads Generados:**\n",
            "   - Evalúa la calidad de los leads o clientes potenciales generados a través de la estrategia.\n",
            "\n",
            "Estas métricas te ayudarán a obtener una visión general del desempeño de la estrategia y a identificar áreas de mejora o éxito. Recuerda que es importante adaptar las métricas a los objetivos específicos de tu empresa y a la naturaleza de la estrategia implementada.\n"
          ]
        }
      ]
    },
    {
      "cell_type": "markdown",
      "source": [
        "Métricas específicas"
      ],
      "metadata": {
        "id": "qSZDX_NKUler"
      }
    },
    {
      "cell_type": "code",
      "source": [
        "# Make the request\n",
        "prompt_iterative5 = \"Haceme un lista resumido con las métricas que necesarias para evaluar el exito de la estrategia de comunicación interna para el Manual de Voz y Tono, para experiencias digitales, de una empresa del sector financiero.\"\n",
        "conversation = [\n",
        "    {\"role\": \"system\", \"content\": context},\n",
        "    {\"role\": \"user\", \"content\": \"{}: {}\".format(message[\"role\"], message[\"content\"])},\n",
        "    {\"role\": \"user\", \"content\": prompt_iterative5}\n",
        "]\n",
        "\n",
        "response = openai.ChatCompletion.create(\n",
        "    model='gpt-3.5-turbo',\n",
        "    messages=conversation,\n",
        "    max_tokens=500\n",
        ")\n",
        "\n",
        "message = response.choices[0]['message']\n",
        "print(\"{}: {}\".format(message['role'], message['content']))"
      ],
      "metadata": {
        "colab": {
          "base_uri": "https://localhost:8080/"
        },
        "id": "dbwb4_wZUnLB",
        "outputId": "a0b94cfc-aa97-4535-b8a8-cf1d2f4d5aae"
      },
      "execution_count": 28,
      "outputs": [
        {
          "output_type": "stream",
          "name": "stdout",
          "text": [
            "assistant: Claro, aquí te dejo un resumen de las métricas clave para evaluar el éxito de la estrategia de comunicación interna para el Manual de Voz y Tono en experiencias digitales de una empresa del sector financiero:\n",
            "\n",
            "1. **Adopción del Manual de Voz y Tono:**\n",
            "   - Mide la cantidad de empleados que han recibido, leído y aplicado el manual en sus comunicaciones.\n",
            "\n",
            "2. **Coherencia en la Comunicación:**\n",
            "   - Evalúa si los mensajes y contenido creado por los empleados reflejan de manera consistente el tono y la voz definidos en el manual.\n",
            "\n",
            "3. **Feedback de los Empleados:**\n",
            "   - Recopila comentarios y opiniones de los colaboradores sobre la efectividad y utilidad del manual en su trabajo diario.\n",
            "\n",
            "4. **Participación en Capacitaciones:**\n",
            "   - Rastrea la asistencia y participación de los empleados en sesiones de capacitación o talleres sobre el Manual de Voz y Tono.\n",
            "\n",
            "5. **Calidad de la Comunicación Interna:**\n",
            "   - Evaluación de la calidad de las comunicaciones internas en términos de claridad, cohesión y alineación con los lineamientos del manual.\n",
            "\n",
            "6. **Impacto en la Cultura Organizacional:**\n",
            "   - Analiza cómo la implementación del manual ha contribuido a fortalecer la cultura de la empresa y mejorar la cohesión interna.\n",
            "\n",
            "7. **Medición de la Consistencia de Marca:**\n",
            "   - Verifica si la comunicación interna refleja los valores y la identidad de marca de la empresa de manera uniforme.\n",
            "\n",
            "8. **Seguimiento de Errores de Comunicación:**\n",
            "   - Identifica y registra errores o desviaciones en la comunicación interna que puedan estar relacionados con el tono y la voz establecidos.\n",
            "\n",
            "Estas métricas te permitirán evaluar el impacto y la efectividad de la estrategia de comunicación interna basada en el Manual de Voz y Tono en experiencias digitales de la empresa del sector financiero. Asegúrate de adaptarlas según las necesidades y los objetivos específicos de tu organización.\n"
          ]
        }
      ]
    }
  ]
}