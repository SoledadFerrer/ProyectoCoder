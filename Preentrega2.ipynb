{
  "nbformat": 4,
  "nbformat_minor": 0,
  "metadata": {
    "colab": {
      "provenance": [],
      "authorship_tag": "ABX9TyPcIkXGLD3PVeLoKl0yz6Fu",
      "include_colab_link": true
    },
    "kernelspec": {
      "name": "python3",
      "display_name": "Python 3"
    },
    "language_info": {
      "name": "python"
    }
  },
  "cells": [
    {
      "cell_type": "markdown",
      "metadata": {
        "id": "view-in-github",
        "colab_type": "text"
      },
      "source": [
        "<a href=\"https://colab.research.google.com/github/SoledadFerrer/ProyectoCoder/blob/main/Untitled0.ipynb\" target=\"_parent\"><img src=\"https://colab.research.google.com/assets/colab-badge.svg\" alt=\"Open In Colab\"/></a>"
      ]
    },
    {
      "cell_type": "markdown",
      "source": [
        "Creación de estrategia de comunicación del Manual de Tono y Voz - texto a texto"
      ],
      "metadata": {
        "id": "b8ytEv_e9rEy"
      }
    },
    {
      "cell_type": "code",
      "execution_count": 1,
      "metadata": {
        "colab": {
          "base_uri": "https://localhost:8080/"
        },
        "id": "0ph_aaZC9ovE",
        "outputId": "e1ca9167-e6eb-454d-b5a7-27e24e6822b0"
      },
      "outputs": [
        {
          "output_type": "stream",
          "name": "stdout",
          "text": [
            "Collecting openai==0.28\n",
            "  Downloading openai-0.28.0-py3-none-any.whl (76 kB)\n",
            "\u001b[2K     \u001b[90m━━━━━━━━━━━━━━━━━━━━━━━━━━━━━━━━━━━━━━━━\u001b[0m \u001b[32m76.5/76.5 kB\u001b[0m \u001b[31m792.6 kB/s\u001b[0m eta \u001b[36m0:00:00\u001b[0m\n",
            "\u001b[?25hRequirement already satisfied: requests>=2.20 in /usr/local/lib/python3.10/dist-packages (from openai==0.28) (2.31.0)\n",
            "Requirement already satisfied: tqdm in /usr/local/lib/python3.10/dist-packages (from openai==0.28) (4.66.2)\n",
            "Requirement already satisfied: aiohttp in /usr/local/lib/python3.10/dist-packages (from openai==0.28) (3.9.3)\n",
            "Requirement already satisfied: charset-normalizer<4,>=2 in /usr/local/lib/python3.10/dist-packages (from requests>=2.20->openai==0.28) (3.3.2)\n",
            "Requirement already satisfied: idna<4,>=2.5 in /usr/local/lib/python3.10/dist-packages (from requests>=2.20->openai==0.28) (3.6)\n",
            "Requirement already satisfied: urllib3<3,>=1.21.1 in /usr/local/lib/python3.10/dist-packages (from requests>=2.20->openai==0.28) (2.0.7)\n",
            "Requirement already satisfied: certifi>=2017.4.17 in /usr/local/lib/python3.10/dist-packages (from requests>=2.20->openai==0.28) (2024.2.2)\n",
            "Requirement already satisfied: aiosignal>=1.1.2 in /usr/local/lib/python3.10/dist-packages (from aiohttp->openai==0.28) (1.3.1)\n",
            "Requirement already satisfied: attrs>=17.3.0 in /usr/local/lib/python3.10/dist-packages (from aiohttp->openai==0.28) (23.2.0)\n",
            "Requirement already satisfied: frozenlist>=1.1.1 in /usr/local/lib/python3.10/dist-packages (from aiohttp->openai==0.28) (1.4.1)\n",
            "Requirement already satisfied: multidict<7.0,>=4.5 in /usr/local/lib/python3.10/dist-packages (from aiohttp->openai==0.28) (6.0.5)\n",
            "Requirement already satisfied: yarl<2.0,>=1.0 in /usr/local/lib/python3.10/dist-packages (from aiohttp->openai==0.28) (1.9.4)\n",
            "Requirement already satisfied: async-timeout<5.0,>=4.0 in /usr/local/lib/python3.10/dist-packages (from aiohttp->openai==0.28) (4.0.3)\n",
            "Installing collected packages: openai\n",
            "Successfully installed openai-0.28.0\n"
          ]
        }
      ],
      "source": [
        "!pip install openai==0.28"
      ]
    },
    {
      "cell_type": "markdown",
      "source": [
        "Api Key"
      ],
      "metadata": {
        "id": "fueitSMB97u8"
      }
    },
    {
      "cell_type": "code",
      "source": [
        "!pip install openai==0.28\n",
        "import openai\n",
        "\n",
        "openai.api_key = \"\""
      ],
      "metadata": {
        "colab": {
          "base_uri": "https://localhost:8080/"
        },
        "id": "8XdkjJrS96CG",
        "outputId": "ff175107-b7bc-41bb-dd45-27a5ab4d06b3"
      },
      "execution_count": 2,
      "outputs": [
        {
          "output_type": "stream",
          "name": "stdout",
          "text": [
            "Requirement already satisfied: openai==0.28 in /usr/local/lib/python3.10/dist-packages (0.28.0)\n",
            "Requirement already satisfied: requests>=2.20 in /usr/local/lib/python3.10/dist-packages (from openai==0.28) (2.31.0)\n",
            "Requirement already satisfied: tqdm in /usr/local/lib/python3.10/dist-packages (from openai==0.28) (4.66.2)\n",
            "Requirement already satisfied: aiohttp in /usr/local/lib/python3.10/dist-packages (from openai==0.28) (3.9.3)\n",
            "Requirement already satisfied: charset-normalizer<4,>=2 in /usr/local/lib/python3.10/dist-packages (from requests>=2.20->openai==0.28) (3.3.2)\n",
            "Requirement already satisfied: idna<4,>=2.5 in /usr/local/lib/python3.10/dist-packages (from requests>=2.20->openai==0.28) (3.6)\n",
            "Requirement already satisfied: urllib3<3,>=1.21.1 in /usr/local/lib/python3.10/dist-packages (from requests>=2.20->openai==0.28) (2.0.7)\n",
            "Requirement already satisfied: certifi>=2017.4.17 in /usr/local/lib/python3.10/dist-packages (from requests>=2.20->openai==0.28) (2024.2.2)\n",
            "Requirement already satisfied: aiosignal>=1.1.2 in /usr/local/lib/python3.10/dist-packages (from aiohttp->openai==0.28) (1.3.1)\n",
            "Requirement already satisfied: attrs>=17.3.0 in /usr/local/lib/python3.10/dist-packages (from aiohttp->openai==0.28) (23.2.0)\n",
            "Requirement already satisfied: frozenlist>=1.1.1 in /usr/local/lib/python3.10/dist-packages (from aiohttp->openai==0.28) (1.4.1)\n",
            "Requirement already satisfied: multidict<7.0,>=4.5 in /usr/local/lib/python3.10/dist-packages (from aiohttp->openai==0.28) (6.0.5)\n",
            "Requirement already satisfied: yarl<2.0,>=1.0 in /usr/local/lib/python3.10/dist-packages (from aiohttp->openai==0.28) (1.9.4)\n",
            "Requirement already satisfied: async-timeout<5.0,>=4.0 in /usr/local/lib/python3.10/dist-packages (from aiohttp->openai==0.28) (4.0.3)\n"
          ]
        }
      ]
    },
    {
      "cell_type": "markdown",
      "source": [
        "Le asigno rol y tarea general - 1ª tarea estrategia general de Comunicación para Manual de Tono y Voz para experiencias digitales"
      ],
      "metadata": {
        "id": "xlAfsJKK-S8E"
      }
    },
    {
      "cell_type": "code",
      "source": [
        "#Make the context of our prompt envoirement\n",
        "context = 'Eres un asistente especialista es comunicación del sector financiero, el cual se encarga de diseñar campañas y estrategias para dar a conocer o posicionar una marca o un tema específico.'\n",
        "\n",
        "#prompt (text/user's question)\n",
        "prompt = \"Tenés que diseñar una estrategia de comunicación interna del manual de tono y voz para diseñar experiencias digitales de una empresa del sector financiero, en este manual vas a encontrar diferentes secciones como personalidad,linemientos de voz y tonos diferenciados por públicos, lineamientos de escritura para generar FAQs, escribir mails, diseñar wordings para diferentes componenetes lineamientos de ortografía, formato de textos, definiciones para armar mensajes de error o éxito. Además vas a poder encontrar consejos de accesibilidad y sesgo de género para que los diseños contemplen a todas las personas usuarias\""
      ],
      "metadata": {
        "id": "RVzryvMM-bQV"
      },
      "execution_count": 3,
      "outputs": []
    },
    {
      "cell_type": "markdown",
      "source": [
        "Configurar el prompt con ChatGPT"
      ],
      "metadata": {
        "id": "BgSfbVk0-6NA"
      }
    },
    {
      "cell_type": "code",
      "source": [
        "# Make the request\n",
        "conversation = [\n",
        "    {\"role\": \"system\", \"content\": context},\n",
        "    {\"role\": \"user\", \"content\": prompt}\n",
        "]\n",
        "\n",
        "response = openai.ChatCompletion.create(\n",
        "    model='gpt-3.5-turbo',\n",
        "    messages=conversation,\n",
        "    max_tokens=500\n",
        ")\n",
        "\n",
        "message = response.choices[0]['message']\n",
        "print(\"{}: {}\".format(message['role'], message['content']))"
      ],
      "metadata": {
        "colab": {
          "base_uri": "https://localhost:8080/"
        },
        "id": "AHxYtqWp-7FS",
        "outputId": "16db4331-ba3c-4eb8-ed09-f80616eb04a7"
      },
      "execution_count": 4,
      "outputs": [
        {
          "output_type": "stream",
          "name": "stdout",
          "text": [
            "assistant: ¡Excelente! Para diseñar una estrategia de comunicación interna del manual de tono y voz para diseñar experiencias digitales de una empresa del sector financiero, puedes seguir estos pasos:\n",
            "\n",
            "1. **Análisis del manual de tono y voz:** Revisa detenidamente el manual para entender cuáles son los lineamientos establecidos y la forma en la que se espera que la marca se comunique.\n",
            "\n",
            "2. **Definición de la estrategia:** Identifica cuáles son los puntos clave que quieres resaltar en la comunicación interna y cómo estos se relacionan con los lineamientos del manual.\n",
            "\n",
            "3. **Segmentación de públicos:** Divide a los empleados en grupos según su función o departamento para adaptar los lineamientos de voz y tono de acuerdo a las necesidades de cada uno.\n",
            "\n",
            "4. **Capacitación:** Organiza talleres o sesiones de capacitación para explicar a los empleados los lineamientos del manual y cómo aplicarlos en su día a día.\n",
            "\n",
            "5. **Creación de material de apoyo:** Elabora material de apoyo como guías resumidas, infografías o ejemplos prácticos para facilitar la comprensión y aplicación de los lineamientos.\n",
            "\n",
            "6. **Reforzamiento constante:** Realiza seguimientos periódicos para asegurarte de que los empleados están aplicando correctamente los lineamientos y corrige cualquier desviación que puedas identificar.\n",
            "\n",
            "7. **Implementación de feedback:** Crea canales de retroalimentación para que los empleados puedan expresar sus dudas, sugerencias o comentarios respecto a los lineamientos del manual.\n",
            "\n",
            "8. **Evaluación de resultados:** Realiza evaluaciones periódicas para medir el impacto de la estrategia en la comunicación interna y hacer ajustes si es necesario.\n",
            "\n",
            "Al diseñar esta estrategia, asegúrate siempre de enfocarte en la importancia de la coherencia y consistencia en la comunicación interna, así como en la inclusión y accesibilidad para llegar a todos los colaboradores de la empresa. ¡Buena suerte!\n"
          ]
        }
      ]
    }
  ]
}
